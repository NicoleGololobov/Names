{
 "cells": [
  {
   "cell_type": "code",
   "execution_count": null,
   "metadata": {},
   "outputs": [],
   "source": [
    "# import libraries\n",
    "import pandas as pd\n",
    "\n",
    "# convert txt files to csv files\n",
    "for year in range (1880,2021):\n",
    "    y = str(year)\n",
    "    names_file = pd.read_csv(\"/Users/Nicole/Documents/Programs/Names2020/yob_txt/yob\" + y + \".txt\", header=None)\n",
    "    names_file.to_csv(\"/Users/Nicole/Documents/Programs/Names2020/yob_csv/yob\" + y + \".csv\", index = None)"
   ]
  },
  {
   "cell_type": "code",
   "execution_count": 132,
   "metadata": {},
   "outputs": [],
   "source": [
    "# import libraries\n",
    "import pandas as pd\n",
    "\n",
    "# read data into pandas dataframe\n",
    "names = pd.read_csv(\"/Users/Nicole/Documents/Programs/Names2020/yob_csv/yob1880.csv\")\n",
    "\n",
    "# rename columns in df\n",
    "names.columns.values[0] = \"Name\"\n",
    "names.columns.values[1] = \"Gender\"\n",
    "names.columns.values[2] = \"Number\"\n",
    "\n",
    "# add column for year\n",
    "names['Year'] = \"1880\"\n",
    "\n",
    "# return only rows where number is greater than a certain value\n",
    "names = names[names['Number'] > 100]\n",
    "\n",
    "# add data from the other files to df\n",
    "# 24 seconds without filter\n",
    "# 11 seconds if more than 20\n",
    "# 7 seconds if more than 100\n",
    "for year in range (1881,2021):\n",
    "    y = str(year)\n",
    "    file = \"/Users/Nicole/Documents/Programs/Names2020/yob_csv/yob\" + y + \".csv\"\n",
    "    names2 = pd.read_csv(file)\n",
    "    names2.columns.values[0] = \"Name\"\n",
    "    names2.columns.values[1] = \"Gender\"\n",
    "    names2.columns.values[2] = \"Number\"\n",
    "    names2['Year'] = y\n",
    "    names2 = names2[names2['Number'] > 100]\n",
    "    names = names.append(names2)  "
   ]
  },
  {
   "cell_type": "code",
   "execution_count": null,
   "metadata": {},
   "outputs": [],
   "source": [
    "# see first five rows of df\n",
    "names.head()"
   ]
  },
  {
   "cell_type": "code",
   "execution_count": null,
   "metadata": {},
   "outputs": [],
   "source": [
    "# see last five rows of df\n",
    "names.tail()"
   ]
  },
  {
   "cell_type": "code",
   "execution_count": 126,
   "metadata": {},
   "outputs": [
    {
     "data": {
      "text/plain": [
       "2531"
      ]
     },
     "execution_count": 126,
     "metadata": {},
     "output_type": "execute_result"
    }
   ],
   "source": [
    "# count how many unique names are in df\n",
    "# 100,364 total names\n",
    "# 12,004 if more than 50\n",
    "# 7,247 if more than 100\n",
    "# 2,531 if more than 500\n",
    "names[\"Name\"].nunique()"
   ]
  },
  {
   "cell_type": "code",
   "execution_count": 127,
   "metadata": {},
   "outputs": [
    {
     "data": {
      "text/plain": [
       "87848"
      ]
     },
     "execution_count": 127,
     "metadata": {},
     "output_type": "execute_result"
    }
   ],
   "source": [
    "# count rows in df\n",
    "# 2,020,863 total rows\n",
    "# 371,789 if more than 50\n",
    "# 240,767 if more than 100\n",
    "# 87,848 if more than 500\n",
    "names.shape[0]"
   ]
  },
  {
   "cell_type": "code",
   "execution_count": 134,
   "metadata": {},
   "outputs": [],
   "source": [
    "# return csv file that lists unique names\n",
    "firsts = names.groupby('Name', as_index=True).first()\n",
    "firsts.to_csv(\"/Users/Nicole/Documents/Programs/Names2020/firsts.csv\")"
   ]
  }
 ],
 "metadata": {
  "kernelspec": {
   "display_name": "Python 3",
   "language": "python",
   "name": "python3"
  },
  "language_info": {
   "codemirror_mode": {
    "name": "ipython",
    "version": 3
   },
   "file_extension": ".py",
   "mimetype": "text/x-python",
   "name": "python",
   "nbconvert_exporter": "python",
   "pygments_lexer": "ipython3",
   "version": "3.6.1"
  }
 },
 "nbformat": 4,
 "nbformat_minor": 2
}
