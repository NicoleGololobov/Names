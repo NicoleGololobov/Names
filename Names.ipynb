{
 "cells": [
  {
   "cell_type": "code",
   "execution_count": null,
   "metadata": {},
   "outputs": [],
   "source": [
    "# import library\n",
    "import pandas as pd\n",
    "\n",
    "# read data into pandas dataframe (df)\n",
    "names = pd.read_csv(\"/Users/Nicole/Documents/Names/baby-names.csv\")\n",
    "# show first five rows of df\n",
    "names.head()"
   ]
  },
  {
   "cell_type": "code",
   "execution_count": null,
   "metadata": {},
   "outputs": [],
   "source": [
    "# show last five rows of df\n",
    "names.tail()"
   ]
  },
  {
   "cell_type": "code",
   "execution_count": null,
   "metadata": {},
   "outputs": [],
   "source": [
    "# show where girl names start\n",
    "names[:][128998:129003]"
   ]
  },
  {
   "cell_type": "code",
   "execution_count": null,
   "metadata": {},
   "outputs": [],
   "source": [
    "# count how often each name appears in the df\n",
    "pd.set_option('display.max_rows', 10)\n",
    "names[\"name\"].value_counts(ascending = False)"
   ]
  },
  {
   "cell_type": "code",
   "execution_count": null,
   "metadata": {},
   "outputs": [],
   "source": [
    "# count how many unique names are in the df\n",
    "names[\"name\"].nunique()"
   ]
  },
  {
   "cell_type": "code",
   "execution_count": null,
   "metadata": {},
   "outputs": [],
   "source": [
    "# count how many unique years are in the df\n",
    "names[\"year\"].nunique()"
   ]
  },
  {
   "cell_type": "code",
   "execution_count": null,
   "metadata": {},
   "outputs": [],
   "source": [
    "# return names that appear less than once in the df\n",
    "names['name'].value_counts()[names['name'].value_counts()<2]"
   ]
  },
  {
   "cell_type": "code",
   "execution_count": null,
   "metadata": {},
   "outputs": [],
   "source": [
    "# print rows where column value for name appeared one time in the df\n",
    "print(names.groupby(\"name\").filter(lambda x: len(x) == 1))\n",
    "\n",
    "# show count for how many of these names each year had\n",
    "u = names.groupby(\"name\").filter(lambda x: len(x) == 1)\n",
    "u['year'].value_counts()"
   ]
  },
  {
   "cell_type": "code",
   "execution_count": null,
   "metadata": {},
   "outputs": [],
   "source": [
    "# What boy names are popular for all years?\n",
    "\n",
    "# split names df into df with boy names\n",
    "b_names = names[names.sex == 'boy']\n",
    "# get rows where name appears 129 times, since 129 years are represented in the df\n",
    "b_names129 = b_names.groupby(\"name\").filter(lambda x: len(x) == 129)\n",
    "# print number of boy names popular for all years and the names alphabetically\n",
    "print(b_names129['name'].nunique())\n",
    "print(b_names129['name'].value_counts().sort_index())"
   ]
  },
  {
   "cell_type": "code",
   "execution_count": null,
   "metadata": {},
   "outputs": [],
   "source": [
    "# What girl names are popular for all years?\n",
    "\n",
    "# split names df into df with girl names\n",
    "g_names = names[names.sex == 'girl']\n",
    "# get rows where name appears 129 times\n",
    "g_names129 = g_names.groupby(\"name\").filter(lambda x: len(x) == 129)\n",
    "# print number of boy names popular for all years and the names alphabetically\n",
    "print(g_names129['name'].nunique())\n",
    "print(g_names129['name'].value_counts().sort_index())"
   ]
  },
  {
   "cell_type": "code",
   "execution_count": null,
   "metadata": {},
   "outputs": [],
   "source": [
    "# What names are popular for both boys and girls?\n",
    "\n",
    "# split names df into df with boy names and df with girl names\n",
    "b_names = names[names.sex == 'boy']\n",
    "g_names = names[names.sex == 'girl']\n",
    "\n",
    "# list unique boy names\n",
    "b_list = []\n",
    "for n in range (0,129000):\n",
    "    if b_names['name'][n] not in b_list:\n",
    "        b_list.append(b_names['name'][n])\n",
    "\n",
    "# list unique girl names\n",
    "g_list = []\n",
    "for n in range (129000,258000):\n",
    "    if g_names['name'][n] not in g_list:\n",
    "        g_list.append(g_names['name'][n])\n",
    "\n",
    "# find intersection of two lists - boy names and girl names\n",
    "def intersection(lst1, lst2): \n",
    "    lst3 = [value for value in lst1 if value in lst2] \n",
    "    return len(lst3), lst3\n",
    "\n",
    "print(intersection(b_list, g_list))"
   ]
  },
  {
   "cell_type": "code",
   "execution_count": null,
   "metadata": {},
   "outputs": [],
   "source": [
    "# What names are popular for all years for both boys and girls? \n",
    "# Based on earlier value counts, Jessie is the only name appearing 258 times\n",
    "# Since 129*2=258, Jessie must be popular for both boys and girls in all years\n",
    "\n",
    "# split names df into df with boy names and df with girl names\n",
    "b_names = names[names.sex == 'boy']\n",
    "g_names = names[names.sex == 'girl']\n",
    "# get boy names appearing 129 times and girl names appearing 129 times\n",
    "b_names129 = b_names.groupby(\"name\").filter(lambda x: len(x) == 129)\n",
    "g_names129 = g_names.groupby(\"name\").filter(lambda x: len(x) == 129)\n",
    "\n",
    "# find intersection of two lists - boy names for all years and girl names for all years\n",
    "def intersection(lst1, lst2): \n",
    "    lst3 = [value for value in lst1 if value in lst2] \n",
    "    return len(set(lst3)), set(lst3)\n",
    "\n",
    "print(intersection(b_names129['name'].tolist(),g_names129['name'].tolist()))"
   ]
  },
  {
   "cell_type": "code",
   "execution_count": null,
   "metadata": {},
   "outputs": [],
   "source": [
    "# For each year, what percent of boys born had a name in the top 1000 names?\n",
    "\n",
    "b_names = names[names.sex == 'boy']\n",
    "for y in range (1880,2009):\n",
    "    y_df = b_names[b_names.year == y]\n",
    "    y_sum = y_df['percent'].sum()\n",
    "    print(y, y_sum)"
   ]
  },
  {
   "cell_type": "code",
   "execution_count": null,
   "metadata": {},
   "outputs": [],
   "source": [
    "# For each year, what percent of girls born had a name in the top 1000 names?\n",
    "\n",
    "g_names = names[names.sex == 'girl']\n",
    "for y in range (1880,2009):\n",
    "    y_df = g_names[g_names.year == y]\n",
    "    y_sum = y_df['percent'].sum()\n",
    "    print(y, y_sum)"
   ]
  },
  {
   "cell_type": "code",
   "execution_count": null,
   "metadata": {},
   "outputs": [],
   "source": [
    "# For each year, how many names made up the top 50% for boys?\n",
    "\n",
    "b_names = names[names.sex == 'boy']\n",
    "for y in range (1880,2009):\n",
    "    y_df = b_names[b_names.year == y]\n",
    "    x = 0\n",
    "    y_sum = 0\n",
    "    while x < len(y_df) and y_sum < 0.50:\n",
    "        if y_df['percent'][0:x].sum() < 0.50:\n",
    "            x = x+1\n",
    "        else:\n",
    "            y_sum = y_df['percent'][0:x].sum()\n",
    "            print(y, x, y_sum)"
   ]
  },
  {
   "cell_type": "code",
   "execution_count": null,
   "metadata": {},
   "outputs": [],
   "source": [
    "# For each year, how many names made up the top 50% for girls?\n",
    "\n",
    "g_names = names[names.sex == 'girl']\n",
    "for y in range (1880,2009):\n",
    "    y_df = g_names[g_names.year == y]\n",
    "    x = 0\n",
    "    y_sum = 0\n",
    "    while x < len(y_df) and y_sum < 0.50:\n",
    "        if y_df['percent'][0:x].sum() < 0.50:\n",
    "            x = x+1\n",
    "        else:\n",
    "            y_sum = y_df['percent'][0:x].sum()\n",
    "            print(y, x, y_sum)"
   ]
  },
  {
   "cell_type": "code",
   "execution_count": null,
   "metadata": {},
   "outputs": [],
   "source": [
    "# Except for 1880, what percent of boy names in each year were also popular in the previous year?\n",
    "\n",
    "b_names = names[names.sex == 'boy']\n",
    "for y in range (1881,2009):\n",
    "    y_next = b_names[b_names.year == y]\n",
    "    y_last = b_names[b_names.year == y-1]\n",
    "    overlap = [value for value in y_next['name'].tolist() if value in y_last['name'].tolist()]\n",
    "    print(y, len(overlap)/1000)"
   ]
  },
  {
   "cell_type": "code",
   "execution_count": null,
   "metadata": {},
   "outputs": [],
   "source": [
    "# Except for 1880, what percent of girl names in each year were also popular in the previous year?\n",
    "\n",
    "g_names = names[names.sex == 'girl']\n",
    "for y in range (1881,2009):\n",
    "    y_next = g_names[g_names.year == y]\n",
    "    y_last = g_names[g_names.year == y-1]\n",
    "    overlap = [value for value in y_next['name'].tolist() if value in y_last['name'].tolist()]\n",
    "    print(y, len(overlap)/1000)"
   ]
  },
  {
   "cell_type": "code",
   "execution_count": null,
   "metadata": {},
   "outputs": [],
   "source": [
    "# Plot popularity of the name Jessie by year for boys\n",
    "\n",
    "import pandas as pd\n",
    "pd.options.mode.chained_assignment = None  # default='warn'\n",
    "\n",
    "b_names = names[names.sex == 'boy']\n",
    "b_Jessie = b_names[b_names.name == 'Jessie']\n",
    "b_Jessie.reset_index(inplace=True)\n",
    "b_Jessie['index'] = b_Jessie['index'] % 1000\n",
    "\n",
    "import seaborn as sns\n",
    "import matplotlib.pyplot as plt\n",
    "plot = sns.jointplot(data = b_Jessie, x='year', y='index', color='b')\n",
    "plt.show()"
   ]
  },
  {
   "cell_type": "code",
   "execution_count": null,
   "metadata": {},
   "outputs": [],
   "source": [
    "# Plot popularity of the name Jessie by year for girls\n",
    "\n",
    "pd.options.mode.chained_assignment = None  # default='warn'\n",
    "\n",
    "g_names = names[names.sex == 'girl']\n",
    "g_Jessie = g_names[g_names.name == 'Jessie']\n",
    "g_Jessie.reset_index(inplace=True)\n",
    "g_Jessie['index'] = g_Jessie['index'] % 1000\n",
    "\n",
    "import seaborn as sns\n",
    "import matplotlib.pyplot as plt\n",
    "plot = sns.jointplot(data = g_Jessie, x='year', y='index', color='b')\n",
    "plt.show()"
   ]
  },
  {
   "cell_type": "code",
   "execution_count": 367,
   "metadata": {},
   "outputs": [
    {
     "name": "stdout",
     "output_type": "stream",
     "text": [
      "         0          1     2\n",
      "0     1880       Mary     1\n",
      "1     1880       Anna     2\n",
      "2     1880       Emma     3\n",
      "3     1880  Elizabeth     4\n",
      "4     1880     Minnie     5\n",
      "...    ...        ...   ...\n",
      "8031  1881     Laylah  1001\n",
      "8032  1881   Carleigh  1001\n",
      "8033  1881     Kenley  1001\n",
      "8034  1881     Sloane  1001\n",
      "8035  1881    Elianna  1001\n",
      "\n",
      "[8036 rows x 3 columns]\n"
     ]
    }
   ],
   "source": [
    "pd.options.mode.chained_assignment = None  # default='warn'\n",
    "\n",
    "g_names = names[names.sex == 'girl']\n",
    "g_names.reset_index(inplace=True)\n",
    "g_names['index'] = (g_names['index'] % 1000) + 1\n",
    "g_ranks = pd.DataFrame(index=range(8036), columns=range(3))\n",
    "\n",
    "list_gnames = g_names.name.unique()\n",
    "i = 0\n",
    "for y in range (1880,1882):\n",
    "    g_year = g_names[g_names.year == y]\n",
    "    for n in list_gnames:\n",
    "        g_year_n = g_year[g_year.name == n]\n",
    "        if len(g_year_n.index) > 0:\n",
    "            g_ranks[0][i] = y\n",
    "            g_ranks[1][i] = n\n",
    "            rank = g_year_n['index'].tolist()\n",
    "            g_ranks[2][i] = rank[0]\n",
    "            i = i+1\n",
    "        else:\n",
    "            g_ranks[0][i] = y\n",
    "            g_ranks[1][i] = n\n",
    "            g_ranks[2][i] = 1001\n",
    "            i = i+1"
   ]
  },
  {
   "cell_type": "code",
   "execution_count": 402,
   "metadata": {},
   "outputs": [
    {
     "name": "stdout",
     "output_type": "stream",
     "text": [
      "[['Peggy', -514], ['Celestine', -478], ['Edmonia', -479], ['Gena', -473], ['Wilda', -455], ['Isa', 464], ['Adell', 496], ['Celeste', 515], ['Lonie', 476], ['Zadie', 462]]\n"
     ]
    }
   ],
   "source": [
    "# Which name changed the most in popularity between two years\n",
    "g_ranks_y1 = g_ranks[g_ranks[0] == 1880]\n",
    "g_ranks_y2 = g_ranks[g_ranks[0] == 1881]\n",
    "\n",
    "y1_y2 = []\n",
    "for n in list_gnames:\n",
    "    g_y1 = g_ranks_y1[g_ranks_y1[1] == n]\n",
    "    g_y2 = g_ranks_y2[g_ranks_y2[1] == n]\n",
    "    r_change =  g_y1[2].tolist()[0] - g_y2[2].tolist()[0]\n",
    "    if abs(r_change) < 450:\n",
    "        r_change = \"no change\"\n",
    "    else:\n",
    "        n_y1_y2 = []\n",
    "        n_y1_y2.append(n)\n",
    "        n_y1_y2.append(r_change)\n",
    "        y1_y2.append(n_y1_y2)\n",
    "print(y1_y2)"
   ]
  }
 ],
 "metadata": {
  "kernelspec": {
   "display_name": "Python 3",
   "language": "python",
   "name": "python3"
  },
  "language_info": {
   "codemirror_mode": {
    "name": "ipython",
    "version": 3
   },
   "file_extension": ".py",
   "mimetype": "text/x-python",
   "name": "python",
   "nbconvert_exporter": "python",
   "pygments_lexer": "ipython3",
   "version": "3.6.1"
  }
 },
 "nbformat": 4,
 "nbformat_minor": 2
}
