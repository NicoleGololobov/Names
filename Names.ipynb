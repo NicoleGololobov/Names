{
 "cells": [
  {
   "cell_type": "code",
   "execution_count": 101,
   "metadata": {},
   "outputs": [
    {
     "data": {
      "text/html": [
       "<div>\n",
       "<style>\n",
       "    .dataframe thead tr:only-child th {\n",
       "        text-align: right;\n",
       "    }\n",
       "\n",
       "    .dataframe thead th {\n",
       "        text-align: left;\n",
       "    }\n",
       "\n",
       "    .dataframe tbody tr th {\n",
       "        vertical-align: top;\n",
       "    }\n",
       "</style>\n",
       "<table border=\"1\" class=\"dataframe\">\n",
       "  <thead>\n",
       "    <tr style=\"text-align: right;\">\n",
       "      <th></th>\n",
       "      <th>year</th>\n",
       "      <th>name</th>\n",
       "      <th>percent</th>\n",
       "      <th>sex</th>\n",
       "    </tr>\n",
       "  </thead>\n",
       "  <tbody>\n",
       "    <tr>\n",
       "      <th>0</th>\n",
       "      <td>1880</td>\n",
       "      <td>John</td>\n",
       "      <td>0.081541</td>\n",
       "      <td>boy</td>\n",
       "    </tr>\n",
       "    <tr>\n",
       "      <th>1</th>\n",
       "      <td>1880</td>\n",
       "      <td>William</td>\n",
       "      <td>0.080511</td>\n",
       "      <td>boy</td>\n",
       "    </tr>\n",
       "    <tr>\n",
       "      <th>2</th>\n",
       "      <td>1880</td>\n",
       "      <td>James</td>\n",
       "      <td>0.050057</td>\n",
       "      <td>boy</td>\n",
       "    </tr>\n",
       "    <tr>\n",
       "      <th>3</th>\n",
       "      <td>1880</td>\n",
       "      <td>Charles</td>\n",
       "      <td>0.045167</td>\n",
       "      <td>boy</td>\n",
       "    </tr>\n",
       "    <tr>\n",
       "      <th>4</th>\n",
       "      <td>1880</td>\n",
       "      <td>George</td>\n",
       "      <td>0.043292</td>\n",
       "      <td>boy</td>\n",
       "    </tr>\n",
       "  </tbody>\n",
       "</table>\n",
       "</div>"
      ],
      "text/plain": [
       "   year     name   percent  sex\n",
       "0  1880     John  0.081541  boy\n",
       "1  1880  William  0.080511  boy\n",
       "2  1880    James  0.050057  boy\n",
       "3  1880  Charles  0.045167  boy\n",
       "4  1880   George  0.043292  boy"
      ]
     },
     "execution_count": 101,
     "metadata": {},
     "output_type": "execute_result"
    }
   ],
   "source": [
    "# import library\n",
    "import pandas as pd\n",
    "\n",
    "# read data into pandas dataframe (df)\n",
    "names = pd.read_csv(\"/Users/Nicole/Documents/Programs/Names/baby-names.csv\")\n",
    "# split names df into one for boy names and one for girl names\n",
    "b_names = names[names.sex == 'boy']\n",
    "g_names = names[names.sex == 'girl']\n",
    "# show first five rows of df\n",
    "names.head()"
   ]
  },
  {
   "cell_type": "code",
   "execution_count": 102,
   "metadata": {},
   "outputs": [
    {
     "data": {
      "text/html": [
       "<div>\n",
       "<style>\n",
       "    .dataframe thead tr:only-child th {\n",
       "        text-align: right;\n",
       "    }\n",
       "\n",
       "    .dataframe thead th {\n",
       "        text-align: left;\n",
       "    }\n",
       "\n",
       "    .dataframe tbody tr th {\n",
       "        vertical-align: top;\n",
       "    }\n",
       "</style>\n",
       "<table border=\"1\" class=\"dataframe\">\n",
       "  <thead>\n",
       "    <tr style=\"text-align: right;\">\n",
       "      <th></th>\n",
       "      <th>year</th>\n",
       "      <th>name</th>\n",
       "      <th>percent</th>\n",
       "      <th>sex</th>\n",
       "    </tr>\n",
       "  </thead>\n",
       "  <tbody>\n",
       "    <tr>\n",
       "      <th>257995</th>\n",
       "      <td>2008</td>\n",
       "      <td>Carleigh</td>\n",
       "      <td>0.000128</td>\n",
       "      <td>girl</td>\n",
       "    </tr>\n",
       "    <tr>\n",
       "      <th>257996</th>\n",
       "      <td>2008</td>\n",
       "      <td>Iyana</td>\n",
       "      <td>0.000128</td>\n",
       "      <td>girl</td>\n",
       "    </tr>\n",
       "    <tr>\n",
       "      <th>257997</th>\n",
       "      <td>2008</td>\n",
       "      <td>Kenley</td>\n",
       "      <td>0.000127</td>\n",
       "      <td>girl</td>\n",
       "    </tr>\n",
       "    <tr>\n",
       "      <th>257998</th>\n",
       "      <td>2008</td>\n",
       "      <td>Sloane</td>\n",
       "      <td>0.000127</td>\n",
       "      <td>girl</td>\n",
       "    </tr>\n",
       "    <tr>\n",
       "      <th>257999</th>\n",
       "      <td>2008</td>\n",
       "      <td>Elianna</td>\n",
       "      <td>0.000127</td>\n",
       "      <td>girl</td>\n",
       "    </tr>\n",
       "  </tbody>\n",
       "</table>\n",
       "</div>"
      ],
      "text/plain": [
       "        year      name   percent   sex\n",
       "257995  2008  Carleigh  0.000128  girl\n",
       "257996  2008     Iyana  0.000128  girl\n",
       "257997  2008    Kenley  0.000127  girl\n",
       "257998  2008    Sloane  0.000127  girl\n",
       "257999  2008   Elianna  0.000127  girl"
      ]
     },
     "execution_count": 102,
     "metadata": {},
     "output_type": "execute_result"
    }
   ],
   "source": [
    "# show last five rows of df\n",
    "names.tail()"
   ]
  },
  {
   "cell_type": "code",
   "execution_count": 103,
   "metadata": {},
   "outputs": [
    {
     "data": {
      "text/html": [
       "<div>\n",
       "<style>\n",
       "    .dataframe thead tr:only-child th {\n",
       "        text-align: right;\n",
       "    }\n",
       "\n",
       "    .dataframe thead th {\n",
       "        text-align: left;\n",
       "    }\n",
       "\n",
       "    .dataframe tbody tr th {\n",
       "        vertical-align: top;\n",
       "    }\n",
       "</style>\n",
       "<table border=\"1\" class=\"dataframe\">\n",
       "  <thead>\n",
       "    <tr style=\"text-align: right;\">\n",
       "      <th></th>\n",
       "      <th>year</th>\n",
       "      <th>name</th>\n",
       "      <th>percent</th>\n",
       "      <th>sex</th>\n",
       "    </tr>\n",
       "  </thead>\n",
       "  <tbody>\n",
       "    <tr>\n",
       "      <th>128998</th>\n",
       "      <td>2008</td>\n",
       "      <td>Jensen</td>\n",
       "      <td>0.000089</td>\n",
       "      <td>boy</td>\n",
       "    </tr>\n",
       "    <tr>\n",
       "      <th>128999</th>\n",
       "      <td>2008</td>\n",
       "      <td>Yurem</td>\n",
       "      <td>0.000089</td>\n",
       "      <td>boy</td>\n",
       "    </tr>\n",
       "    <tr>\n",
       "      <th>129000</th>\n",
       "      <td>1880</td>\n",
       "      <td>Mary</td>\n",
       "      <td>0.072381</td>\n",
       "      <td>girl</td>\n",
       "    </tr>\n",
       "    <tr>\n",
       "      <th>129001</th>\n",
       "      <td>1880</td>\n",
       "      <td>Anna</td>\n",
       "      <td>0.026678</td>\n",
       "      <td>girl</td>\n",
       "    </tr>\n",
       "    <tr>\n",
       "      <th>129002</th>\n",
       "      <td>1880</td>\n",
       "      <td>Emma</td>\n",
       "      <td>0.020521</td>\n",
       "      <td>girl</td>\n",
       "    </tr>\n",
       "  </tbody>\n",
       "</table>\n",
       "</div>"
      ],
      "text/plain": [
       "        year    name   percent   sex\n",
       "128998  2008  Jensen  0.000089   boy\n",
       "128999  2008   Yurem  0.000089   boy\n",
       "129000  1880    Mary  0.072381  girl\n",
       "129001  1880    Anna  0.026678  girl\n",
       "129002  1880    Emma  0.020521  girl"
      ]
     },
     "execution_count": 103,
     "metadata": {},
     "output_type": "execute_result"
    }
   ],
   "source": [
    "# show where girl names start\n",
    "names[:][128998:129003]"
   ]
  },
  {
   "cell_type": "code",
   "execution_count": 104,
   "metadata": {},
   "outputs": [
    {
     "data": {
      "text/plain": [
       "Jessie       258\n",
       "Leslie       247\n",
       "Jean         244\n",
       "Guadalupe    244\n",
       "Lee          240\n",
       "            ... \n",
       "Dema           1\n",
       "Bjorn          1\n",
       "Kareen         1\n",
       "Ermine         1\n",
       "Tavaris        1\n",
       "Name: name, Length: 6782, dtype: int64"
      ]
     },
     "execution_count": 104,
     "metadata": {},
     "output_type": "execute_result"
    }
   ],
   "source": [
    "# count how often each name appears in the df\n",
    "pd.set_option('display.max_rows', 10)\n",
    "names[\"name\"].value_counts(ascending = False)"
   ]
  },
  {
   "cell_type": "code",
   "execution_count": 105,
   "metadata": {},
   "outputs": [
    {
     "data": {
      "text/plain": [
       "6782"
      ]
     },
     "execution_count": 105,
     "metadata": {},
     "output_type": "execute_result"
    }
   ],
   "source": [
    "# count how many unique names are in the df\n",
    "names[\"name\"].nunique()"
   ]
  },
  {
   "cell_type": "code",
   "execution_count": 106,
   "metadata": {},
   "outputs": [
    {
     "data": {
      "text/plain": [
       "129"
      ]
     },
     "execution_count": 106,
     "metadata": {},
     "output_type": "execute_result"
    }
   ],
   "source": [
    "# count how many unique years are in the df\n",
    "names[\"year\"].nunique()"
   ]
  },
  {
   "cell_type": "code",
   "execution_count": 107,
   "metadata": {},
   "outputs": [
    {
     "data": {
      "text/plain": [
       "Argie      1\n",
       "Milly      1\n",
       "Ceylon     1\n",
       "Polk       1\n",
       "Medora     1\n",
       "          ..\n",
       "Dema       1\n",
       "Bjorn      1\n",
       "Kareen     1\n",
       "Ermine     1\n",
       "Tavaris    1\n",
       "Name: name, Length: 782, dtype: int64"
      ]
     },
     "execution_count": 107,
     "metadata": {},
     "output_type": "execute_result"
    }
   ],
   "source": [
    "# return names that appear less than once in the df\n",
    "names['name'].value_counts()[names['name'].value_counts()<2]"
   ]
  },
  {
   "cell_type": "code",
   "execution_count": 108,
   "metadata": {},
   "outputs": [
    {
     "name": "stdout",
     "output_type": "stream",
     "text": [
      "        year      name   percent   sex\n",
      "740     1880    Tilden  0.000068   boy\n",
      "828     1880   Candido  0.000051   boy\n",
      "831     1880  Clemente  0.000051   boy\n",
      "854     1880    Friend  0.000051   boy\n",
      "863     1880     Hence  0.000051   boy\n",
      "...      ...       ...       ...   ...\n",
      "257992  2008    Laylah  0.000129  girl\n",
      "257995  2008  Carleigh  0.000128  girl\n",
      "257997  2008    Kenley  0.000127  girl\n",
      "257998  2008    Sloane  0.000127  girl\n",
      "257999  2008   Elianna  0.000127  girl\n",
      "\n",
      "[782 rows x 4 columns]\n"
     ]
    },
    {
     "data": {
      "text/plain": [
       "2008    49\n",
       "1880    43\n",
       "1881    37\n",
       "1882    36\n",
       "1883    28\n",
       "        ..\n",
       "1953     1\n",
       "1950     1\n",
       "1912     1\n",
       "1942     1\n",
       "1941     1\n",
       "Name: year, Length: 118, dtype: int64"
      ]
     },
     "execution_count": 108,
     "metadata": {},
     "output_type": "execute_result"
    }
   ],
   "source": [
    "# print rows for names that appeared only once in the df\n",
    "print(names.groupby(\"name\").filter(lambda x: len(x) == 1))\n",
    "\n",
    "# count how many of these names each year had\n",
    "u = names.groupby(\"name\").filter(lambda x: len(x) == 1)\n",
    "u['year'].value_counts()"
   ]
  },
  {
   "cell_type": "code",
   "execution_count": 109,
   "metadata": {},
   "outputs": [
    {
     "name": "stdout",
     "output_type": "stream",
     "text": [
      "214\n",
      "\n",
      "Aaron      129\n",
      "Abraham    129\n",
      "Adam       129\n",
      "Adrian     129\n",
      "Albert     129\n",
      "          ... \n",
      "Wesley     129\n",
      "Will       129\n",
      "William    129\n",
      "Willie     129\n",
      "Wilson     129\n",
      "Name: name, Length: 214, dtype: int64\n"
     ]
    }
   ],
   "source": [
    "# What boy names are popular for all years?\n",
    "\n",
    "# get rows where boy name appears 129 times, since 129 years are represented in the df\n",
    "b_names129 = b_names.groupby(\"name\").filter(lambda x: len(x) == 129)\n",
    "# print number of boy names popular for all years and the names alphabetically\n",
    "print(b_names129['name'].nunique())\n",
    "print(\"\")\n",
    "print(b_names129['name'].value_counts().sort_index())"
   ]
  },
  {
   "cell_type": "code",
   "execution_count": 110,
   "metadata": {},
   "outputs": [
    {
     "name": "stdout",
     "output_type": "stream",
     "text": [
      "115\n",
      "\n",
      "Alice       129\n",
      "Alma        129\n",
      "Amanda      129\n",
      "Amelia      129\n",
      "Amy         129\n",
      "           ... \n",
      "Theresa     129\n",
      "Veronica    129\n",
      "Victoria    129\n",
      "Virginia    129\n",
      "Vivian      129\n",
      "Name: name, Length: 115, dtype: int64\n"
     ]
    }
   ],
   "source": [
    "# What girl names are popular for all years?\n",
    "\n",
    "# get rows where girl name appears 129 times\n",
    "g_names129 = g_names.groupby(\"name\").filter(lambda x: len(x) == 129)\n",
    "# print number of girl names popular for all years and the names alphabetically\n",
    "print(g_names129['name'].nunique())\n",
    "print(\"\")\n",
    "print(g_names129['name'].value_counts().sort_index())"
   ]
  },
  {
   "cell_type": "code",
   "execution_count": 111,
   "metadata": {},
   "outputs": [
    {
     "name": "stdout",
     "output_type": "stream",
     "text": [
      "673\n",
      "['John', 'William', 'James', 'Charles', 'George'] ['Santana', 'Lyric', 'Kamryn', 'Marley', 'Eden']\n"
     ]
    }
   ],
   "source": [
    "# What names are popular for both boys and girls?\n",
    "\n",
    "# list unique boy names\n",
    "b_list = []\n",
    "for n in range (0,129000):\n",
    "    if b_names['name'][n] not in b_list:\n",
    "        b_list.append(b_names['name'][n])\n",
    "\n",
    "# list unique girl names\n",
    "g_list = []\n",
    "for n in range (129000,258000):\n",
    "    if g_names['name'][n] not in g_list:\n",
    "        g_list.append(g_names['name'][n])\n",
    "        \n",
    "# list names found in both boy and girl name lists\n",
    "u_list = []\n",
    "for b in b_list:\n",
    "    if b in g_list:\n",
    "        u_list.append(b)\n",
    "print(len(u_list))\n",
    "print(u_list[0:5], u_list[668:])# print only the first and last five results\n",
    "        "
   ]
  },
  {
   "cell_type": "code",
   "execution_count": 112,
   "metadata": {},
   "outputs": [
    {
     "name": "stdout",
     "output_type": "stream",
     "text": [
      "(1, {'Jessie'})\n"
     ]
    }
   ],
   "source": [
    "# What names are popular for all years for both boys and girls? \n",
    "# Value counts will also show which names appear 258 times\n",
    "\n",
    "# get boy names appearing 129 times and girl names appearing 129 times\n",
    "b_names129 = b_names.groupby(\"name\").filter(lambda x: len(x) == 129)\n",
    "g_names129 = g_names.groupby(\"name\").filter(lambda x: len(x) == 129)\n",
    "\n",
    "# find intersection of two lists - boy names for all years and girl names for all years\n",
    "def intersection(lst1, lst2): \n",
    "    lst3 = [value for value in lst1 if value in lst2] \n",
    "    return len(set(lst3)), set(lst3)\n",
    "\n",
    "print(intersection(b_names129['name'].tolist(),g_names129['name'].tolist()))"
   ]
  },
  {
   "cell_type": "code",
   "execution_count": 113,
   "metadata": {},
   "outputs": [
    {
     "name": "stdout",
     "output_type": "stream",
     "text": [
      "1880 0.9307460000000009\n",
      "1881 0.9304390000000067\n",
      "1882 0.9275319999999948\n",
      "1883 0.9287770000000067\n",
      "1884 0.9272889999999933\n",
      "\n",
      "2000 0.8342690000000004\n",
      "2001 0.8292740000000016\n",
      "2002 0.8265630000000008\n",
      "2003 0.8242710000000014\n",
      "2004 0.8172050000000013\n"
     ]
    }
   ],
   "source": [
    "# For each year, what percent of boys born had a name in the top 1000?\n",
    "\n",
    "for y in range (1880,1885):\n",
    "    y_df = b_names[b_names.year == y]\n",
    "    y_sum = y_df['percent'].sum()\n",
    "    print(y, y_sum)\n",
    "\n",
    "print(\"\")\n",
    "\n",
    "for y in range (2000,2005):\n",
    "    y_df = b_names[b_names.year == y]\n",
    "    y_sum = y_df['percent'].sum()\n",
    "    print(y, y_sum)"
   ]
  },
  {
   "cell_type": "code",
   "execution_count": 114,
   "metadata": {},
   "outputs": [
    {
     "name": "stdout",
     "output_type": "stream",
     "text": [
      "1880 0.934545999999999\n",
      "1881 0.9326900000000024\n",
      "1882 0.9309850000000048\n",
      "1883 0.9333140000000062\n",
      "1884 0.931352000000003\n",
      "\n",
      "2000 0.7201520000000009\n",
      "2001 0.7127020000000006\n",
      "2002 0.7099589999999987\n",
      "2003 0.7055450000000009\n",
      "2004 0.6981670000000001\n"
     ]
    }
   ],
   "source": [
    "# For each year, what percent of girls born had a name in the top 1000?\n",
    "\n",
    "for y in range (1880,1885):\n",
    "    y_df = g_names[g_names.year == y]\n",
    "    y_sum = y_df['percent'].sum()\n",
    "    print(y, y_sum)\n",
    "    \n",
    "print(\"\")\n",
    "\n",
    "for y in range (2000,2005):\n",
    "    y_df = g_names[g_names.year == y]\n",
    "    y_sum = y_df['percent'].sum()\n",
    "    print(y, y_sum)"
   ]
  },
  {
   "cell_type": "code",
   "execution_count": 115,
   "metadata": {},
   "outputs": [
    {
     "name": "stdout",
     "output_type": "stream",
     "text": [
      "1880 16 0.5049490000000001\n",
      "1881 16 0.5009459999999999\n",
      "1882 18 0.5061\n",
      "1883 18 0.5070020000000001\n",
      "1884 20 0.5061720000000002\n"
     ]
    }
   ],
   "source": [
    "# For each year, how many names made up the top 50% for boys?\n",
    "\n",
    "for y in range (1880,1885):\n",
    "    y_df = b_names[b_names.year == y]\n",
    "    x = 0\n",
    "    y_sum = 0\n",
    "    while x < len(y_df) and y_sum < 0.50:\n",
    "        if y_df['percent'][0:x].sum() < 0.50:\n",
    "            x = x+1\n",
    "        else:\n",
    "            y_sum = y_df['percent'][0:x].sum()\n",
    "            print(y, x, y_sum)"
   ]
  },
  {
   "cell_type": "code",
   "execution_count": 116,
   "metadata": {},
   "outputs": [
    {
     "name": "stdout",
     "output_type": "stream",
     "text": [
      "1880 43 0.503815\n",
      "1881 43 0.5021319999999999\n",
      "1882 43 0.501642\n",
      "1883 44 0.5049130000000002\n",
      "1884 44 0.502521\n"
     ]
    }
   ],
   "source": [
    "# For each year, how many names made up the top 50% for girls?\n",
    "\n",
    "for y in range (1880,1885):\n",
    "    y_df = g_names[g_names.year == y]\n",
    "    x = 0\n",
    "    y_sum = 0\n",
    "    while x < len(y_df) and y_sum < 0.50:\n",
    "        if y_df['percent'][0:x].sum() < 0.50:\n",
    "            x = x+1\n",
    "        else:\n",
    "            y_sum = y_df['percent'][0:x].sum()\n",
    "            print(y, x, y_sum)"
   ]
  },
  {
   "cell_type": "code",
   "execution_count": 117,
   "metadata": {},
   "outputs": [
    {
     "name": "stdout",
     "output_type": "stream",
     "text": [
      "1881 0.819\n",
      "1882 0.814\n",
      "1883 0.827\n",
      "1884 0.83\n",
      "1885 0.819\n"
     ]
    }
   ],
   "source": [
    "# What percent of boy names in each year were also popular in the previous year?\n",
    "\n",
    "for y in range (1881,1886):\n",
    "    y_next = b_names[b_names.year == y]\n",
    "    y_last = b_names[b_names.year == y-1]\n",
    "    overlap = [value for value in y_next['name'].tolist() if value in y_last['name'].tolist()]\n",
    "    print(y, len(overlap)/1000)"
   ]
  },
  {
   "cell_type": "code",
   "execution_count": 118,
   "metadata": {},
   "outputs": [
    {
     "name": "stdout",
     "output_type": "stream",
     "text": [
      "1881 0.83\n",
      "1882 0.828\n",
      "1883 0.839\n",
      "1884 0.834\n",
      "1885 0.843\n"
     ]
    }
   ],
   "source": [
    "# What percent of girl names in each year were also popular in the previous year?\n",
    "\n",
    "for y in range (1881,1886):\n",
    "    y_next = g_names[g_names.year == y]\n",
    "    y_last = g_names[g_names.year == y-1]\n",
    "    overlap = [value for value in y_next['name'].tolist() if value in y_last['name'].tolist()]\n",
    "    print(y, len(overlap)/1000)"
   ]
  },
  {
   "cell_type": "code",
   "execution_count": 119,
   "metadata": {},
   "outputs": [
    {
     "data": {
      "image/png": "[encoded data removed]",
      "text/plain": [
       "<matplotlib.figure.Figure at 0x1146db470>"
      ]
     },
     "metadata": {},
     "output_type": "display_data"
    }
   ],
   "source": [
    "# Plot popularity of the name Jessie by year for boys\n",
    "\n",
    "import pandas as pd\n",
    "pd.options.mode.chained_assignment = None  # default='warn'\n",
    "\n",
    "b_Jessie = b_names[b_names.name == 'Jessie']\n",
    "b_Jessie.reset_index(inplace=True)\n",
    "b_Jessie['index'] = b_Jessie['index'] % 1000\n",
    "\n",
    "import seaborn as sns\n",
    "import matplotlib.pyplot as plt\n",
    "plot = sns.jointplot(data = b_Jessie, x='year', y='index', color='b')\n",
    "plt.show()"
   ]
  },
  {
   "cell_type": "code",
   "execution_count": 120,
   "metadata": {},
   "outputs": [
    {
     "data": {
      "image/png": "[encoded data removed]",
      "text/plain": [
       "<matplotlib.figure.Figure at 0x11462aba8>"
      ]
     },
     "metadata": {},
     "output_type": "display_data"
    }
   ],
   "source": [
    "# Plot popularity of the name Jessie by year for girls\n",
    "\n",
    "pd.options.mode.chained_assignment = None  # default='warn'\n",
    "\n",
    "g_Jessie = g_names[g_names.name == 'Jessie']\n",
    "g_Jessie.reset_index(inplace=True)\n",
    "g_Jessie['index'] = g_Jessie['index'] % 1000\n",
    "\n",
    "import seaborn as sns\n",
    "import matplotlib.pyplot as plt\n",
    "plot = sns.jointplot(data = g_Jessie, x='year', y='index', color='b')\n",
    "plt.show()"
   ]
  },
  {
   "cell_type": "code",
   "execution_count": 121,
   "metadata": {},
   "outputs": [
    {
     "name": "stdout",
     "output_type": "stream",
     "text": [
      "[['Peggy', -514], ['Celeste', 515]]\n"
     ]
    }
   ],
   "source": [
    "# Which girl name changed the most in popularity between two years\n",
    "\n",
    "pd.options.mode.chained_assignment = None  # default='warn'\n",
    "\n",
    "g_names.reset_index(inplace=True)\n",
    "g_names['index'] = (g_names['index'] % 1000) + 1\n",
    "g_ranks = pd.DataFrame(index=range(8036), columns=range(3))\n",
    "\n",
    "list_gnames = g_names.name.unique()\n",
    "i = 0\n",
    "for y in range (1880,1882):\n",
    "    g_year = g_names[g_names.year == y]\n",
    "    for n in list_gnames:\n",
    "        g_year_n = g_year[g_year.name == n]\n",
    "        if len(g_year_n.index) > 0:\n",
    "            g_ranks[0][i] = y\n",
    "            g_ranks[1][i] = n\n",
    "            rank = g_year_n['index'].tolist()\n",
    "            g_ranks[2][i] = rank[0]\n",
    "            i = i+1\n",
    "        else:\n",
    "            g_ranks[0][i] = y\n",
    "            g_ranks[1][i] = n\n",
    "            g_ranks[2][i] = 1001\n",
    "            i = i+1\n",
    "g_ranks_y1 = g_ranks[g_ranks[0] == 1880]\n",
    "g_ranks_y2 = g_ranks[g_ranks[0] == 1881]\n",
    "\n",
    "# return names where rank fell or rose at least 500 places \n",
    "y1_y2 = []\n",
    "for n in list_gnames:\n",
    "    g_y1 = g_ranks_y1[g_ranks_y1[1] == n]\n",
    "    g_y2 = g_ranks_y2[g_ranks_y2[1] == n]\n",
    "    r_change =  g_y1[2].tolist()[0] - g_y2[2].tolist()[0]\n",
    "    if abs(r_change) < 500:\n",
    "        r_change = \"insufficient\"\n",
    "    else:\n",
    "        n_y1_y2 = []\n",
    "        n_y1_y2.append(n)\n",
    "        n_y1_y2.append(r_change)\n",
    "        y1_y2.append(n_y1_y2)\n",
    "print(y1_y2)"
   ]
  }
 ],
 "metadata": {
  "kernelspec": {
   "display_name": "Python 3",
   "language": "python",
   "name": "python3"
  },
  "language_info": {
   "codemirror_mode": {
    "name": "ipython",
    "version": 3
   },
   "file_extension": ".py",
   "mimetype": "text/x-python",
   "name": "python",
   "nbconvert_exporter": "python",
   "pygments_lexer": "ipython3",
   "version": "3.6.1"
  }
 },
 "nbformat": 4,
 "nbformat_minor": 2
}
